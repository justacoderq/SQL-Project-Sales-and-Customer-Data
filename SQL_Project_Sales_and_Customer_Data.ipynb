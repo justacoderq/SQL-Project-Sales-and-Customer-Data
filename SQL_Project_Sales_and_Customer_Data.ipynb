{
  "metadata": {
    "kernelspec": {
      "language": "python",
      "display_name": "Python 3",
      "name": "python3"
    },
    "language_info": {
      "pygments_lexer": "ipython3",
      "nbconvert_exporter": "python",
      "version": "3.6.4",
      "file_extension": ".py",
      "codemirror_mode": {
        "name": "ipython",
        "version": 3
      },
      "name": "python",
      "mimetype": "text/x-python"
    },
    "colab": {
      "provenance": [],
      "include_colab_link": true
    }
  },
  "nbformat_minor": 0,
  "nbformat": 4,
  "cells": [
    {
      "cell_type": "markdown",
      "metadata": {
        "id": "view-in-github",
        "colab_type": "text"
      },
      "source": [
        "<a href=\"https://colab.research.google.com/github/justacoderq/SQL-Project-Sales-and-Customer-Data/blob/main/SQL_Project_Sales_and_Customer_Data.ipynb\" target=\"_parent\"><img src=\"https://colab.research.google.com/assets/colab-badge.svg\" alt=\"Open In Colab\"/></a>"
      ]
    },
    {
      "cell_type": "markdown",
      "source": [
        "Sales and Customer Data"
      ],
      "metadata": {
        "id": "EGbTKsO6UYwT"
      }
    },
    {
      "source": [
        "import os\n",
        "import sys\n",
        "from tempfile import NamedTemporaryFile\n",
        "from urllib.request import urlopen\n",
        "from urllib.parse import unquote, urlparse\n",
        "from urllib.error import HTTPError\n",
        "from zipfile import ZipFile\n",
        "import tarfile\n",
        "import shutil\n",
        "\n",
        "CHUNK_SIZE = 40960\n",
        "DATA_SOURCE_MAPPING = 'sales-and-customer-data:https%3A%2F%2Fstorage.googleapis.com%2Fkaggle-data-sets%2F3834980%2F6643279%2Fbundle%2Farchive.zip%3FX-Goog-Algorithm%3DGOOG4-RSA-SHA256%26X-Goog-Credential%3Dgcp-kaggle-com%2540kaggle-161607.iam.gserviceaccount.com%252F20240930%252Fauto%252Fstorage%252Fgoog4_request%26X-Goog-Date%3D20240930T142246Z%26X-Goog-Expires%3D259200%26X-Goog-SignedHeaders%3Dhost%26X-Goog-Signature%3D255c59f01a489d3b12fc95147af0b648b5c36dae90148e0a02a65d59164a6f475348e2f6ffa0e1bd2656821ef2e657f6af372497758ebfa3e7a978684dea936dc1955a4cc3deb46419e3e7d72948863f16852a1955fe99577e1b6b98a08c3a78c8b8e21fdacc8b11059abd65df5a8373d308998ce0494074afb9f2b1b0a1c03e4e0d65843f033f3a673a294c308a89a4052a949245ce53cb556b4895fafe378eb1aeb119d4ae510cb21fca2acaff8604a3dce5c00b5e5636732bce5e5589638845b9804fa8a9b2172fb651b05c7577a0ef9bbf6490dda408b36b838fa28529b41c7ef8a1230a5afd62c0e74a8027a354bc94154bb18b401ba9b76efd9bf824d6'\n",
        "\n",
        "KAGGLE_INPUT_PATH='/kaggle/input'\n",
        "KAGGLE_WORKING_PATH='/kaggle/working'\n",
        "KAGGLE_SYMLINK='kaggle'\n",
        "\n",
        "!umount /kaggle/input/ 2> /dev/null\n",
        "shutil.rmtree('/kaggle/input', ignore_errors=True)\n",
        "os.makedirs(KAGGLE_INPUT_PATH, 0o777, exist_ok=True)\n",
        "os.makedirs(KAGGLE_WORKING_PATH, 0o777, exist_ok=True)\n",
        "\n",
        "try:\n",
        "  os.symlink(KAGGLE_INPUT_PATH, os.path.join(\"..\", 'input'), target_is_directory=True)\n",
        "except FileExistsError:\n",
        "  pass\n",
        "try:\n",
        "  os.symlink(KAGGLE_WORKING_PATH, os.path.join(\"..\", 'working'), target_is_directory=True)\n",
        "except FileExistsError:\n",
        "  pass\n",
        "\n",
        "for data_source_mapping in DATA_SOURCE_MAPPING.split(','):\n",
        "    directory, download_url_encoded = data_source_mapping.split(':')\n",
        "    download_url = unquote(download_url_encoded)\n",
        "    filename = urlparse(download_url).path\n",
        "    destination_path = os.path.join(KAGGLE_INPUT_PATH, directory)\n",
        "    try:\n",
        "        with urlopen(download_url) as fileres, NamedTemporaryFile() as tfile:\n",
        "            total_length = fileres.headers['content-length']\n",
        "            print(f'Downloading {directory}, {total_length} bytes compressed')\n",
        "            dl = 0\n",
        "            data = fileres.read(CHUNK_SIZE)\n",
        "            while len(data) > 0:\n",
        "                dl += len(data)\n",
        "                tfile.write(data)\n",
        "                done = int(50 * dl / int(total_length))\n",
        "                sys.stdout.write(f\"\\r[{'=' * done}{' ' * (50-done)}] {dl} bytes downloaded\")\n",
        "                sys.stdout.flush()\n",
        "                data = fileres.read(CHUNK_SIZE)\n",
        "            if filename.endswith('.zip'):\n",
        "              with ZipFile(tfile) as zfile:\n",
        "                zfile.extractall(destination_path)\n",
        "            else:\n",
        "              with tarfile.open(tfile.name) as tarfile:\n",
        "                tarfile.extractall(destination_path)\n",
        "            print(f'\\nDownloaded and uncompressed: {directory}')\n",
        "    except HTTPError as e:\n",
        "        print(f'Failed to load (likely expired) {download_url} to path {destination_path}')\n",
        "        continue\n",
        "    except OSError as e:\n",
        "        print(f'Failed to load {download_url} to path {destination_path}')\n",
        "        continue\n",
        "\n",
        "print('Data source import complete.')\n"
      ],
      "metadata": {
        "id": "GY99WkLXT_7l",
        "outputId": "0e8162a5-5b4f-4480-c0e7-ca93ee2ba8b1",
        "colab": {
          "base_uri": "https://localhost:8080/"
        }
      },
      "cell_type": "code",
      "outputs": [
        {
          "output_type": "stream",
          "name": "stdout",
          "text": [
            "Downloading sales-and-customer-data, 2036891 bytes compressed\n",
            "[==================================================] 2036891 bytes downloaded\n",
            "Downloaded and uncompressed: sales-and-customer-data\n",
            "Data source import complete.\n"
          ]
        }
      ],
      "execution_count": null
    },
    {
      "cell_type": "markdown",
      "source": [],
      "metadata": {
        "id": "u4bZKphrT_7p"
      }
    },
    {
      "cell_type": "markdown",
      "source": [
        "## Customer and Sales Data"
      ],
      "metadata": {
        "id": "XRkBng0hT_7s"
      }
    },
    {
      "cell_type": "markdown",
      "source": [
        "For this project, i used the Sales and Customer data from Kaggle: https://www.kaggle.com/datasets/dataceo/sales-and-customer-data?select=customer_data.csv\n",
        "\n",
        "**In this project, I will be answering the following questions:**\n",
        "\n",
        "  1.  What is the total revenue generated?\n",
        "  2.  What is the most popular product category in terms of sales?\n",
        "  3. What are the three top shopping malls in terms of sales revenue?\n",
        "  4. What is the gender distribution across different product categories?\n",
        "  5. What is the age distribution of customers who prefer each payment method?\n",
        "\n",
        "Before answering these questions, my goal is to create one source of truth by combining the two sources provided. This will simplify querying the data and will create a better organisation and viewing experience.\n"
      ],
      "metadata": {
        "id": "32UANGS2T_7t"
      }
    },
    {
      "cell_type": "markdown",
      "source": [
        "# Step zero: Data Exploration"
      ],
      "metadata": {
        "id": "18uVOv0QT_7t"
      }
    },
    {
      "cell_type": "code",
      "source": [
        "SELECT *\n",
        "FROM emilio-playground.raw.raw_customer\n",
        "LIMIT 100;\n",
        "\n",
        "SELECT *\n",
        "FROM emilio-playground.raw.raw_sales\n",
        "LIMIT 100;"
      ],
      "metadata": {
        "id": "_u2k2xqET_7u",
        "outputId": "ba676250-ebb7-4978-e390-33487e984230",
        "colab": {
          "base_uri": "https://localhost:8080/",
          "height": 106
        }
      },
      "execution_count": null,
      "outputs": [
        {
          "output_type": "error",
          "ename": "SyntaxError",
          "evalue": "invalid syntax (<ipython-input-2-d762790ff4bc>, line 1)",
          "traceback": [
            "\u001b[0;36m  File \u001b[0;32m\"<ipython-input-2-d762790ff4bc>\"\u001b[0;36m, line \u001b[0;32m1\u001b[0m\n\u001b[0;31m    SELECT *\u001b[0m\n\u001b[0m            ^\u001b[0m\n\u001b[0;31mSyntaxError\u001b[0m\u001b[0;31m:\u001b[0m invalid syntax\n"
          ]
        }
      ]
    },
    {
      "cell_type": "markdown",
      "source": [
        "\n",
        "This data has some pretty interesting information, including: customer age, product type, payment method, and price. I want to check if there is one row per invoid-id or multiple.\n"
      ],
      "metadata": {
        "id": "DW-gvUuFT_7u"
      }
    },
    {
      "cell_type": "code",
      "source": [
        "SELECT\n",
        "invoice_no\n",
        ", COUNT(*) AS count\n",
        "FROM emilio-playground.raw.raw_sales\n",
        "GROUP BY 1\n",
        "HAVING count > 2;"
      ],
      "metadata": {
        "id": "U-Y1EJ0QT_7v"
      },
      "execution_count": null,
      "outputs": []
    },
    {
      "cell_type": "markdown",
      "source": [
        "output: none. This proves that there is only one invoice-id per row, therefore there are no duplicates and we do not have to worry about eliminating these in the data clearning process. Great!\n"
      ],
      "metadata": {
        "id": "2fFX5WsWT_7v"
      }
    },
    {
      "cell_type": "markdown",
      "source": [
        "# Step one: Clean the data"
      ],
      "metadata": {
        "id": "Ga9kD-cRT_7v"
      }
    },
    {
      "cell_type": "markdown",
      "source": [
        "I will begin my joining the data from the customer table to the sales table under the alias 'customer_sales_data'"
      ],
      "metadata": {
        "id": "D27Jz5_kT_7w"
      }
    },
    {
      "cell_type": "code",
      "source": [
        "CREATE OR REPLACE TABLE `core.sales_customer_data` AS (\n",
        "SELECT\n",
        "  s.customer_id\n",
        "  , s.category\n",
        "  , s.quantity\n",
        "  , s.price\n",
        "  , s.quantity * s.price AS total_price\n",
        "  , s.invoice_date\n",
        "  , s.shopping_mall\n",
        "  , c.gender\n",
        "  , c.age\n",
        "  , c.payment_method\n",
        "FROM emilio-playground.raw.raw_sales AS s\n",
        "INNER JOIN emilio-playground.raw.raw_customer AS c\n",
        "ON c.customer_id = s.customer_id);"
      ],
      "metadata": {
        "id": "lYWlBxPiT_7w"
      },
      "execution_count": null,
      "outputs": []
    },
    {
      "cell_type": "markdown",
      "source": [
        "I added the total price in case of a purchase with more than one quantity. The text formatting seems to be consistent across columns, so there is no need to LOWER or UPPER each one.\n",
        "We have the same amount of rows after the joining, which means we are in the clear and there is no sign of duplication due to the join.  Additionally, there is a 100% joining rate.\n",
        "\n",
        "Next, I will check for Null values in the total_price column as this was a custom computed column which we will use for later analysis."
      ],
      "metadata": {
        "id": "W4FUm94GT_7w"
      }
    },
    {
      "cell_type": "code",
      "source": [
        "SELECT *\n",
        "FROM emilio-playground.core.sales_customer_data\n",
        "WHERE total_price IS NULL;"
      ],
      "metadata": {
        "id": "AYd0Cow3T_7w"
      },
      "execution_count": null,
      "outputs": []
    },
    {
      "cell_type": "markdown",
      "source": [
        "Output: 0. Excellent, there are no Null values in this column."
      ],
      "metadata": {
        "id": "RZbdLHQxT_7x"
      }
    },
    {
      "cell_type": "markdown",
      "source": [
        "# Step two: Analyse the data"
      ],
      "metadata": {
        "id": "HtjEMZzPT_7x"
      }
    },
    {
      "cell_type": "markdown",
      "source": [
        "**Question one:  What is the total revenue generated in the year 2022?**"
      ],
      "metadata": {
        "id": "W5z7Gsv6T_7x"
      }
    },
    {
      "cell_type": "code",
      "source": [
        "SELECT SUM(total_price) AS total_revenue\n",
        "FROM emilio-playground.core.sales_customer_data\n",
        "WHERE EXTRACT(year FROM invoice_date) = 2022;"
      ],
      "metadata": {
        "id": "39LieyK9T_7x"
      },
      "execution_count": null,
      "outputs": []
    },
    {
      "cell_type": "markdown",
      "source": [
        "Output: 115,436,814.08."
      ],
      "metadata": {
        "id": "CuKQbS2-T_7x"
      }
    },
    {
      "cell_type": "markdown",
      "source": [
        "**Quesiton two:   What is the most popular product category in terms of sales?**"
      ],
      "metadata": {
        "id": "r10VJoFzT_7y"
      }
    },
    {
      "cell_type": "code",
      "source": [
        "SELECT\n",
        "  SUM(quantity) AS total_quantity\n",
        " , category\n",
        "FROM emilio-playground.core.sales_customer_data\n",
        "GROUP BY category\n",
        "ORDER BY total_quantity DESC;"
      ],
      "metadata": {
        "id": "QG1LMi6uT_7y"
      },
      "execution_count": null,
      "outputs": []
    },
    {
      "cell_type": "markdown",
      "source": [
        "Output: Clothing was the most popular product cateory in terms of sales by more than double the 2nd place cosmetics category.\n",
        "\n",
        "1. Clothing: 103558\n",
        "2. Cosmetics: 45465\n",
        "3. Food & Beverage: 44277\n",
        "4. Toys: 30321\n",
        "5. Shoes: 30217\n",
        "6. Technology: 15021\n",
        "7. Book: 14982\n",
        "8. Souvenir: 14871"
      ],
      "metadata": {
        "id": "D8GjcVRNT_7y"
      }
    },
    {
      "cell_type": "markdown",
      "source": [
        "**Quesiton three: What are the three top shopping malls in terms of sales revenue?**"
      ],
      "metadata": {
        "id": "rtJkJ3z7T_7y"
      }
    },
    {
      "cell_type": "code",
      "source": [
        "SELECT\n",
        "  shopping_mall\n",
        "  , ROUND(SUM(total_price),2) AS total_price\n",
        "  FROM emilio-playground.core.sales_customer_data\n",
        "  GROUP BY shopping_mall\n",
        "  ORDER BY total_price DESC\n",
        "  LIMIT 3;"
      ],
      "metadata": {
        "id": "28Id5hBMT_7z"
      },
      "execution_count": null,
      "outputs": []
    },
    {
      "cell_type": "markdown",
      "source": [
        "Output: The top three highest sales revenue shopping malls are the following:\n",
        "\n",
        "1.\tMall of Istanbul: 50872481.68\n",
        "2.\tKanyon: 50554231.1\n",
        "3.\t  Metrocity: 37302787.33"
      ],
      "metadata": {
        "id": "ida70hhcT_7z"
      }
    },
    {
      "cell_type": "markdown",
      "source": [
        "**Question four: What is the gender distribution across different product categories?**"
      ],
      "metadata": {
        "id": "2nG8EHGcT_7z"
      }
    },
    {
      "cell_type": "code",
      "source": [
        "SELECT\n",
        "  category\n",
        "  , gender\n",
        "  , COUNT(*) AS count\n",
        "  FROM emilio-playground.core.sales_customer_data\n",
        "GROUP BY gender, category\n",
        " ORDER BY count DESC;"
      ],
      "metadata": {
        "id": "JgpeLjp1T_70"
      },
      "execution_count": null,
      "outputs": []
    },
    {
      "cell_type": "markdown",
      "source": [
        "Output:  Females purchased more than men in every single category... Surprising??\n",
        "\n",
        "Clothing: Female = 20652, Male= 13835\n",
        "\n",
        "Cosmetics: Female= 9070, Male= 6027\n",
        "\n",
        "Food & Beverage: Female = 8804, Male= 5972\n",
        "\n",
        "Toys: Female = 6085, Male= 4002\n",
        "\n",
        "Technology: Female= 2981, Male= 2015"
      ],
      "metadata": {
        "id": "X3zSFsaUT_70"
      }
    },
    {
      "cell_type": "markdown",
      "source": [
        "**Question five: What is the age distribution of customers who prefer each payment method?**"
      ],
      "metadata": {
        "id": "FWRBbg4pT_70"
      }
    },
    {
      "cell_type": "code",
      "source": [
        "SELECT\n",
        "  CASE WHEN age BETWEEN 0 AND 25 THEN '0-25'\n",
        "       WHEN age BETWEEN 26 AND 50 THEN '26-50'\n",
        "       WHEN age BETWEEN 51 AND 75 THEN '51-75'\n",
        "       WHEN age BETWEEN 76 AND 100 THEN '76-100'\n",
        "       ELSE 'other'\n",
        "       END AS age_range\n",
        "  ,payment_method\n",
        "  ,COUNT(*) AS count\n",
        "  FROM emilio-playground.core.sales_customer_data\n",
        " GROUP BY age_range, payment_method\n",
        " ORDER BY count DESC;"
      ],
      "metadata": {
        "id": "4o_DuGuxT_70"
      },
      "execution_count": null,
      "outputs": []
    },
    {
      "cell_type": "markdown",
      "source": [
        "Output:\n",
        "\n",
        "| Age Range | Payment Method | Count |\n",
        "|-----------|----------------|--------|\n",
        "| 26-50     | Cash           | 21,395 |\n",
        "| 26-50     | Credit Card    | 16,819 |\n",
        "| 51-75     | Cash           | 16,169 |\n",
        "| 51-75     | Credit Card    | 12,660 |\n",
        "| 26-50     | Debit Card      | 9,727 |\n",
        "| 51-75     | Debit Card      | 7,225 |\n",
        "| 0-25      | Cash            | 6,833 |\n",
        "| 0-25      | Credit Card     | 5,419 |\n",
        "| 0-25      | Debit Card      | 3,091 |\n",
        "| Other     | Cash               | 50 |\n",
        "| Other     | Debit Card         | 36 |\n",
        "| Other     | Credit Card        | 33 |\n",
        "\n",
        "1. The age group 26-50 uses Cash as a payment method the most, followed by Credit Card and Debit Card.\n",
        "2. The age group 51-75 has a similar trend where they use Cash the most, followed by Credit Card and then Debit Card.\n",
        "3. The age group 0-25 prefers to use Cash, then Credit Card, and Debit Card comes last.\n",
        "4. The \"Other\" age group uses Cash the most, though the counts are very low for all payment methods in this category.\n",
        "\n",
        "Overall, across all age groups, the use of Cash is dominant, followed by Credit Card and Debit Card."
      ],
      "metadata": {
        "id": "PUVqf1gZT_71"
      }
    },
    {
      "cell_type": "markdown",
      "source": [
        "# Step three: Conclusions"
      ],
      "metadata": {
        "id": "oGJkV8_zT_72"
      }
    },
    {
      "cell_type": "markdown",
      "source": [
        "Based on the comprehensive analysis of the Sales and Customer data:\n",
        "\n",
        "1. The total revenue generated in the year 2022 was $115,436,814.08.\n",
        "\n",
        "2. The most popular product category in terms of sales was 'Clothing' with 103,558 units sold, significantly outperforming other categories.\n",
        "\n",
        "3. The top three shopping malls with the highest sales revenue were:\n",
        "- Mall of Istanbul: $50,872,481.68\n",
        "\n",
        "- Kanyon: $50,554,231.1\n",
        "\n",
        "- Metrocity: $37,302,787.33\n",
        "\n",
        "4. Gender-wise, females consistently purchased more across all product categories, particularly dominating in the 'Clothing' and 'Cosmetics' categories.\n",
        "\n",
        "5. In terms of payment preferences:\n",
        "- The age group 26-50 predominantly used Cash, followed by Credit Card and Debit Card.\n",
        "- The age group 51-75 mirrored this trend, preferring Cash, then Credit Card and subsequently Debit Card.\n",
        "- Those aged 0-25 primarily utilized Cash, with Credit Card and Debit Card following.\n",
        "- Despite the counts being relatively low in the \"Other\" age group, Cash remained the dominant choice, ahead of both Credit and Debit Cards.\n",
        "\n",
        "In essence, the data reflects a strong preference for 'Clothing' across shoppers, and a consistent inclination towards using Cash as a mode of payment across different age groups.\n"
      ],
      "metadata": {
        "id": "hNsadgZiT_72"
      }
    },
    {
      "cell_type": "markdown",
      "source": [
        "**Thank you for reading this SQL project, I appreciate it!**"
      ],
      "metadata": {
        "id": "WjGDXtMzT_73"
      }
    }
  ]
}